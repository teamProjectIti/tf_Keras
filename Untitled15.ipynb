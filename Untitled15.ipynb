{
  "nbformat": 4,
  "nbformat_minor": 0,
  "metadata": {
    "colab": {
      "provenance": [],
      "authorship_tag": "ABX9TyOKNrCSug8eRwj4QOSoX2cI",
      "include_colab_link": true
    },
    "kernelspec": {
      "name": "python3",
      "display_name": "Python 3"
    },
    "language_info": {
      "name": "python"
    }
  },
  "cells": [
    {
      "cell_type": "markdown",
      "metadata": {
        "id": "view-in-github",
        "colab_type": "text"
      },
      "source": [
        "<a href=\"https://colab.research.google.com/github/teamProjectIti/tf_Keras/blob/main/Untitled15.ipynb\" target=\"_parent\"><img src=\"https://colab.research.google.com/assets/colab-badge.svg\" alt=\"Open In Colab\"/></a>"
      ]
    },
    {
      "cell_type": "code",
      "source": [
        "import os\n",
        "import google.generativeai\n",
        "from IPython.display import Markdown, display\n",
        "\n",
        "# Manually set the Google API key\n",
        "os.environ[\"GOOGLE_API_KEY\"] = \"\"\n",
        "\n",
        "# Configure Google Generative AI\n",
        "try:\n",
        "    google_api_key = os.environ[\"GOOGLE_API_KEY\"]\n",
        "\n",
        "    if google_api_key:\n",
        "        print(f\"✅ Google API Key loaded: {google_api_key[:8]}... (hidden for security)\")\n",
        "        google.generativeai.configure(api_key=google_api_key)\n",
        "        print(\"✅ Google Generative AI client configured successfully.\")\n",
        "    else:\n",
        "        print(\"❌ Google API Key not found.\")\n",
        "except Exception as e:\n",
        "    print(f\"⚠️ Error configuring Google Generative AI: {e}\")\n"
      ],
      "metadata": {
        "colab": {
          "base_uri": "https://localhost:8080/"
        },
        "id": "E0vNREeFBPRY",
        "outputId": "b3ae8d7b-4dfa-40d9-f9cc-b8fc19eca724"
      },
      "execution_count": 10,
      "outputs": [
        {
          "output_type": "stream",
          "name": "stdout",
          "text": [
            "✅ Google API Key loaded: AIzaSyCM... (hidden for security)\n",
            "✅ Google Generative AI client configured successfully.\n"
          ]
        }
      ]
    },
    {
      "cell_type": "code",
      "source": [
        "google.generativeai.configure()\n"
      ],
      "metadata": {
        "id": "emvFdKJsBmBe"
      },
      "execution_count": 11,
      "outputs": []
    },
    {
      "cell_type": "code",
      "source": [
        "system_message = \"عاوز نكته مصريه\"\n",
        "user_prompt = \"قل نكتة خفيفة الظل لجمهور من عامه الناس\"\n",
        "prompts = [\n",
        "    {\"role\": \"system\", \"content\": system_message},\n",
        "    {\"role\": \"user\", \"content\": user_prompt}\n",
        "  ]\n"
      ],
      "metadata": {
        "id": "Ngzxc8wFKZBb"
      },
      "execution_count": 15,
      "outputs": []
    },
    {
      "cell_type": "code",
      "source": [
        "gemini = google.generativeai.GenerativeModel(\n",
        "    model_name='gemini-2.0-flash',\n",
        "    system_instruction=system_message\n",
        ")\n",
        "response = gemini.generate_content(user_prompt)\n",
        "print(response.text)"
      ],
      "metadata": {
        "colab": {
          "base_uri": "https://localhost:8080/",
          "height": 72
        },
        "id": "FmiESdr_KchI",
        "outputId": "0cbd7c5e-636d-4977-bad1-02f49ec1d2a9"
      },
      "execution_count": 16,
      "outputs": [
        {
          "output_type": "stream",
          "name": "stdout",
          "text": [
            "مرة واحد صعيدي راح القاهرة، وركب تاكسي، السواق قاله: \"يا عم الحاج، الأجرة بالعداد\".\n",
            "الصعيدي قاله: \"يا راجل! خلاص عِد أنت وأنا هدفع\". 😂\n",
            "\n"
          ]
        }
      ]
    },
    {
      "cell_type": "code",
      "source": [],
      "metadata": {
        "id": "PLIx-WOiKpzv"
      },
      "execution_count": null,
      "outputs": []
    }
  ]
}